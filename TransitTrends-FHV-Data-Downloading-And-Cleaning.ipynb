{
 "cells": [
  {
   "cell_type": "code",
   "execution_count": 2,
   "id": "c7bfbc04",
   "metadata": {},
   "outputs": [],
   "source": [
    "from pyspark import SparkContext, SparkConf\n",
    "cf = SparkConf()\n",
    "cf.set(\"spark.submit.deployMode\",\"client\")\n",
    "sc = SparkContext.getOrCreate(cf)\n",
    "from pyspark.sql import SparkSession\n",
    "spark = SparkSession \\\n",
    "\t    .builder \\\n",
    "\t    .appName(\"Python Spark SQL basic example\") \\\n",
    "\t    .config(\"spark.some.config.option\", \"some-value\") \\\n",
    "\t    .getOrCreate()\n",
    "                            "
   ]
  },
  {
   "cell_type": "code",
   "execution_count": 3,
   "id": "587e58ef",
   "metadata": {},
   "outputs": [],
   "source": [
    "from urllib.request import urlopen"
   ]
  },
  {
   "cell_type": "markdown",
   "id": "dcf7377d",
   "metadata": {},
   "source": [
    "# Loading Datasets"
   ]
  },
  {
   "cell_type": "markdown",
   "id": "421eb562",
   "metadata": {},
   "source": [
    "## 2019"
   ]
  },
  {
   "cell_type": "code",
   "execution_count": 35,
   "id": "9fa63ee0",
   "metadata": {},
   "outputs": [],
   "source": [
    "def createDF(url):\n",
    "    jsonData = urlopen(url).read().decode('utf-8')\n",
    "    rdd = spark.sparkContext.parallelize([jsonData])\n",
    "    df = spark.read.json(rdd)\n",
    "    return df"
   ]
  },
  {
   "cell_type": "code",
   "execution_count": 43,
   "id": "84902d14",
   "metadata": {},
   "outputs": [],
   "source": [
    "url_2019 = \"https://data.cityofnewyork.us/resource/u6nh-b56h.json\"\n",
    "url_2020 = \"https://data.cityofnewyork.us/resource/m3yx-mvk4.json\"\n",
    "url_2021 = \"https://data.cityofnewyork.us/resource/a444-au9b.json\""
   ]
  },
  {
   "cell_type": "code",
   "execution_count": 44,
   "id": "4823c427",
   "metadata": {},
   "outputs": [],
   "source": [
    "df_2019 = createDF(url_2019)\n",
    "df_2020 = createDF(url_2020)\n",
    "df_2021 = createDF(url_2021)"
   ]
  },
  {
   "cell_type": "code",
   "execution_count": 45,
   "id": "85ca21b0",
   "metadata": {},
   "outputs": [],
   "source": [
    "df = df_2019.union(df_2020)\n",
    "df = df.union(df_2021)"
   ]
  },
  {
   "cell_type": "code",
   "execution_count": 46,
   "id": "1c689068",
   "metadata": {},
   "outputs": [],
   "source": [
    "df.createOrReplaceTempView(\"fhv_data\")"
   ]
  },
  {
   "cell_type": "code",
   "execution_count": 47,
   "id": "f9bf028e",
   "metadata": {},
   "outputs": [
    {
     "name": "stdout",
     "output_type": "stream",
     "text": [
      "+--------------------+------------+--------------------+--------------------+------------+-------+\n",
      "|dispatching_base_num|dolocationid|    dropoff_datetime|     pickup_datetime|pulocationid|sr_flag|\n",
      "+--------------------+------------+--------------------+--------------------+------------+-------+\n",
      "|              B02395|          92|2019-01-01T00:32:...|2019-01-01T00:19:...|          98|   null|\n",
      "|              B02395|         133|2019-01-01T00:58:...|2019-01-01T00:41:...|          97|   null|\n",
      "|              B02395|         158|2019-01-01T01:19:...|2019-01-01T00:53:...|          97|   null|\n",
      "|              B02395|         196|2019-01-01T00:29:...|2019-01-01T00:20:...|          95|   null|\n",
      "|              B02395|          69|2019-01-01T00:47:...|2019-01-01T00:37:...|          94|   null|\n",
      "|              B02395|         169|2019-01-01T00:15:...|2019-01-01T00:11:...|          94|   null|\n",
      "|              B02395|         248|2019-01-01T00:31:...|2019-01-01T00:20:...|          94|   null|\n",
      "|              B02395|         179|2019-01-01T00:39:...|2019-01-01T00:21:...|          93|   null|\n",
      "|              B02111|          93|2019-01-01T00:18:...|2019-01-01T00:10:...|          92|   null|\n",
      "|              B02111|          92|2019-01-01T00:48:...|2019-01-01T00:48:...|          92|   null|\n",
      "|              B02111|          73|2019-01-01T00:21:...|2019-01-01T00:21:...|          92|   null|\n",
      "|              B02111|          92|2019-01-01T00:36:...|2019-01-01T00:30:...|          92|   null|\n",
      "|              B02111|         192|2019-01-01T00:46:...|2019-01-01T00:41:...|          92|   null|\n",
      "|              B02111|          92|2019-01-01T00:35:...|2019-01-01T00:34:...|          92|   null|\n",
      "|              B02111|          92|2019-01-01T00:50:...|2019-01-01T00:42:...|          92|   null|\n",
      "|              B02111|          92|2019-01-01T00:12:...|2019-01-01T00:08:...|          92|   null|\n",
      "|              B02111|         135|2019-01-01T00:31:...|2019-01-01T00:22:...|          92|   null|\n",
      "|              B02111|          92|2019-01-01T00:41:...|2019-01-01T00:33:...|          92|   null|\n",
      "|              B02395|         145|2019-01-01T00:58:...|2019-01-01T00:38:...|          92|   null|\n",
      "|              B02395|          48|2019-01-01T00:48:...|2019-01-01T00:15:...|          90|   null|\n",
      "+--------------------+------------+--------------------+--------------------+------------+-------+\n",
      "only showing top 20 rows\n",
      "\n"
     ]
    }
   ],
   "source": [
    "spark.sql(\"Select * FROM fhv_data SORT BY pulocationid DESC\").show()"
   ]
  }
 ],
 "metadata": {
  "kernelspec": {
   "display_name": "Python 3 (ipykernel)",
   "language": "python",
   "name": "python3"
  },
  "language_info": {
   "codemirror_mode": {
    "name": "ipython",
    "version": 3
   },
   "file_extension": ".py",
   "mimetype": "text/x-python",
   "name": "python",
   "nbconvert_exporter": "python",
   "pygments_lexer": "ipython3",
   "version": "3.8.13"
  }
 },
 "nbformat": 4,
 "nbformat_minor": 5
}
