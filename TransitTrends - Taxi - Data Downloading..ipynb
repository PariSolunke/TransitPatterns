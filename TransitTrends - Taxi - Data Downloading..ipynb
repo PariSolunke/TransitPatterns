﻿{
  "metadata": {
    "name": "TransitTrends - Taxi - Data Downloading",
    "kernelspec": {
      "language": "scala",
      "name": "spark2-scala"
    },
    "language_info": {
      "codemirror_mode": "text/x-scala",
      "file_extension": ".scala",
      "mimetype": "text/x-scala",
      "name": "scala",
      "pygments_lexer": "scala"
    }
  },
  "nbformat": 4,
  "nbformat_minor": 2,
  "cells": [
    {
      "cell_type": "code",
      "execution_count": 0,
      "metadata": {
        "autoscroll": "auto"
      },
      "outputs": [],
      "source": "%python\nfrom pyspark import SparkContext, SparkConf\ncf \u003d SparkConf()\ncf.set(\"spark.submit.deployMode\",\"client\")\nsc \u003d SparkContext.getOrCreate(cf)\nfrom pyspark.sql import SparkSession\nspark \u003d SparkSession \\\n\t    .builder \\\n\t    .appName(\"TransitTrends- Taxi\") \\\n\t    .config(\"spark.some.config.option\", \"some-value\") \\\n\t    .getOrCreate()"
    },
    {
      "cell_type": "code",
      "execution_count": 1,
      "metadata": {
        "autoscroll": "auto"
      },
      "outputs": [],
      "source": "%python\nimport os\nfrom sodapy import Socrata\nimport pandas as pd\nimport numpy as np"
    },
    {
      "cell_type": "markdown",
      "metadata": {},
      "source": "Loading All datasets\n"
    },
    {
      "cell_type": "code",
      "execution_count": 3,
      "metadata": {
        "autoscroll": "auto"
      },
      "outputs": [],
      "source": "%python\n\n\n# Unauthenticated client only works with public data sets. Note \u0027None\u0027\n# in place of application token, and no username or password:\nclient \u003d Socrata(\"data.cityofnewyork.us\", None)\n\n# First 100000 results results of 2019 yellow cabs\nresults \u003d client.get(\"2upf-qytp\", limit\u003d100000)\n\n# Convert to pandas DataFrame\nresults_df \u003d pd.DataFrame.from_records(results)"
    },
    {
      "cell_type": "code",
      "execution_count": 4,
      "metadata": {
        "autoscroll": "auto"
      },
      "outputs": [],
      "source": "%python\nprint(results_df.shape)\nresults_df.head()"
    },
    {
      "cell_type": "code",
      "execution_count": 5,
      "metadata": {
        "autoscroll": "auto"
      },
      "outputs": [],
      "source": "%python\nresults_df.to_csv(\"Yellow_Cabs_2019.csv\", index\u003dFalse)"
    },
    {
      "cell_type": "code",
      "execution_count": 6,
      "metadata": {
        "autoscroll": "auto"
      },
      "outputs": [],
      "source": "%python\nclient \u003d Socrata(\"data.cityofnewyork.us\", None)\n\n# First 100000 results of 2020 yellow cabs\nresults \u003d client.get(\"kxp8-n2sj\", limit\u003d100000)\n\n# Convert to pandas DataFrame\nresults_df \u003d pd.DataFrame.from_records(results)"
    },
    {
      "cell_type": "code",
      "execution_count": 7,
      "metadata": {
        "autoscroll": "auto"
      },
      "outputs": [],
      "source": "%python\nprint(results_df.shape)\nresults_df.head()"
    },
    {
      "cell_type": "code",
      "execution_count": 8,
      "metadata": {
        "autoscroll": "auto"
      },
      "outputs": [],
      "source": "%python\nresults_df.to_csv(\"Yellow_Cabs_2020.csv\", index\u003dFalse)"
    },
    {
      "cell_type": "code",
      "execution_count": 9,
      "metadata": {
        "autoscroll": "auto"
      },
      "outputs": [],
      "source": "%python\nclient \u003d Socrata(\"data.cityofnewyork.us\", None)\n\n# First 100000 results of 2021 yellow cabs\nresults \u003d client.get(\"m6nq-qud6\", limit\u003d100000)\n\n# Convert to pandas DataFrame\nresults_df \u003d pd.DataFrame.from_records(results)"
    },
    {
      "cell_type": "code",
      "execution_count": 10,
      "metadata": {
        "autoscroll": "auto"
      },
      "outputs": [],
      "source": "%python\nprint(results_df.shape)\nresults_df.head()"
    },
    {
      "cell_type": "code",
      "execution_count": 11,
      "metadata": {
        "autoscroll": "auto"
      },
      "outputs": [],
      "source": "%python\nresults_df.to_csv(\"Yellow_Cabs_2021.csv\", index\u003dFalse)"
    },
    {
      "cell_type": "code",
      "execution_count": 12,
      "metadata": {
        "autoscroll": "auto"
      },
      "outputs": [],
      "source": "%python\nclient \u003d Socrata(\"data.cityofnewyork.us\", None)\n\n# First 100000 results of 2019 green cabs\nresults \u003d client.get(\"q5mz-t52e\", limit\u003d100000)\n\n# Convert to pandas DataFrame\nresults_df \u003d pd.DataFrame.from_records(results)"
    },
    {
      "cell_type": "code",
      "execution_count": 13,
      "metadata": {
        "autoscroll": "auto"
      },
      "outputs": [],
      "source": "%python\nprint(results_df.shape)\nresults_df.head()"
    },
    {
      "cell_type": "code",
      "execution_count": 14,
      "metadata": {
        "autoscroll": "auto"
      },
      "outputs": [],
      "source": "%python\nresults_df.to_csv(\"Green_Cabs_2019.csv\", index\u003dFalse)"
    },
    {
      "cell_type": "code",
      "execution_count": 15,
      "metadata": {
        "autoscroll": "auto"
      },
      "outputs": [],
      "source": "%python\nclient \u003d Socrata(\"data.cityofnewyork.us\", None)\n\n# First 100000 results of 2020 green cabs\nresults \u003d client.get(\"pkmi-4kfn\", limit\u003d100000)\n\n# Convert to pandas DataFrame\nresults_df \u003d pd.DataFrame.from_records(results)"
    },
    {
      "cell_type": "code",
      "execution_count": 16,
      "metadata": {
        "autoscroll": "auto"
      },
      "outputs": [],
      "source": "%python\nprint(results_df.shape)\nresults_df.head()"
    },
    {
      "cell_type": "code",
      "execution_count": 17,
      "metadata": {
        "autoscroll": "auto"
      },
      "outputs": [],
      "source": "%python\nresults_df.to_csv(\"Green_Cabs_2020.csv\", index\u003dFalse)"
    },
    {
      "cell_type": "code",
      "execution_count": 18,
      "metadata": {
        "autoscroll": "auto"
      },
      "outputs": [],
      "source": "%python\nclient \u003d Socrata(\"data.cityofnewyork.us\", None)\n\n# First 100000 results of 2021 green cabs\nresults \u003d client.get(\"djnb-wcxt\", limit\u003d100000)\n\n# Convert to pandas DataFrame\nresults_df \u003d pd.DataFrame.from_records(results)"
    },
    {
      "cell_type": "code",
      "execution_count": 19,
      "metadata": {
        "autoscroll": "auto"
      },
      "outputs": [],
      "source": "%python\nprint(results_df.shape)\nresults_df.head()"
    },
    {
      "cell_type": "code",
      "execution_count": 20,
      "metadata": {
        "autoscroll": "auto"
      },
      "outputs": [],
      "source": "%python\nresults_df.to_csv(\"Green_Cabs_2021.csv\", index\u003dFalse)"
    },
    {
      "cell_type": "markdown",
      "metadata": {},
      "source": "The above files are arranged manually in hpc dataproc in following order:\n\nTAXI_SAMPLE:\n    GREEN_CABS:\n        Green_Cabs_2019.csv\n        Green_Cabs_2020.csv\n        Green_Cabs_2021.csv\n    YELLOW_CABS:\n        Yellow_Cabs_2019.csv\n        Yellow_Cabs_2020.csv\n        Yellow_Cabs_2021.csv\n\nThen the whole file is put in hdfs dfs using the comand:\nhdfs dfs -put TAXI_SAMPLE/ /shared/\n"
    },
    {
      "cell_type": "code",
      "execution_count": 22,
      "metadata": {
        "autoscroll": "auto"
      },
      "outputs": [],
      "source": "%python\nimport subprocess\n# downloading Yellow cab data(2019-2022) from site https://www.nyc.gov/site/tlc/about/tlc-trip-record-data.page\nurl \u003d \"https://d37ci6vzurychx.cloudfront.net/trip-data/yellow_tripdata_20\"\noutput_dir \u003d \"/home/sk9944_nyu_edu/TAXI/YELLOW_CABS/\"\nfor i in range(19,23):\n    for j in range(1, 13):\n        url_1 \u003d str(j)\n        if j\u003c10:\n            url_1 \u003d \"0\"+url_1\n        print(\"wget \"+ url+str(i)+\"-\"+url_1+\".parquet\")\n        # Run wget command\n        subprocess.call([\"wget\", \"-P\", output_dir, url+str(i)+\"-\"+url_1+\".parquet\"])"
    },
    {
      "cell_type": "code",
      "execution_count": 23,
      "metadata": {
        "autoscroll": "auto"
      },
      "outputs": [],
      "source": "%python\n# downloading Green cab data(2019-2022) from site https://www.nyc.gov/site/tlc/about/tlc-trip-record-data.page\nurl \u003d \"https://d37ci6vzurychx.cloudfront.net/trip-data/green_tripdata_20\"\noutput_dir \u003d \"/home/sk9944_nyu_edu/TAXI/GREEN_CABS/\"\nfor i in range(19,23):\n    for j in range(1, 13):\n        url_1 \u003d str(j)\n        if j\u003c10:\n            url_1 \u003d \"0\"+url_1\n        print(\"wget \"+ url+str(i)+\"-\"+url_1+\".parquet\")\n        # Run wget command\n        subprocess.call([\"wget\", \"-P\", output_dir, url+str(i)+\"-\"+url_1+\".parquet\"])"
    },
    {
      "cell_type": "raw",
      "metadata": {
        "format": "text/plain"
      },
      "source": "%python\n"
    }
  ]
}