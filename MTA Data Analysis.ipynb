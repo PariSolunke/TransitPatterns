{
 "cells": [
  {
   "cell_type": "code",
   "execution_count": 1,
   "id": "1224f53f",
   "metadata": {},
   "outputs": [
    {
     "name": "stderr",
     "output_type": "stream",
     "text": [
      "Setting default log level to \"WARN\".\n",
      "To adjust logging level use sc.setLogLevel(newLevel). For SparkR, use setLogLevel(newLevel).\n",
      "23/04/21 22:14:29 INFO org.apache.spark.SparkEnv: Registering MapOutputTracker\n",
      "23/04/21 22:14:29 INFO org.apache.spark.SparkEnv: Registering BlockManagerMaster\n",
      "23/04/21 22:14:29 INFO org.apache.spark.SparkEnv: Registering BlockManagerMasterHeartbeat\n",
      "23/04/21 22:14:29 INFO org.apache.spark.SparkEnv: Registering OutputCommitCoordinator\n"
     ]
    }
   ],
   "source": [
    "from pyspark import SparkContext, SparkConf\n",
    "cf = SparkConf()\n",
    "cf.set(\"spark.submit.deployMode\",\"client\")\n",
    "sc = SparkContext.getOrCreate(cf)\n",
    "from pyspark.sql import SparkSession\n",
    "spark = SparkSession \\\n",
    "\t    .builder \\\n",
    "\t    .appName(\"Python Spark SQL basic example\") \\\n",
    "\t    .config(\"spark.some.config.option\", \"some-value\") \\\n",
    "\t    .getOrCreate()\n",
    "                            "
   ]
  },
  {
   "cell_type": "code",
   "execution_count": 53,
   "id": "28fa7473",
   "metadata": {},
   "outputs": [],
   "source": [
    "import pyspark.sql.functions as F\n",
    "from pyspark.sql.types import StructField, StructType, StringType, TimestampType, DateType\n",
    "from pyspark.sql import Window\n",
    "import pandas as pd\n",
    "import matplotlib.pyplot as plt\n",
    "import matplotlib.ticker as ticker"
   ]
  },
  {
   "cell_type": "code",
   "execution_count": 10,
   "id": "e7bbad6c",
   "metadata": {},
   "outputs": [],
   "source": [
    "data = spark.read.csv(path='/shared/TransitTrends/MTA_CLEAN/daily_counts.csv', header=True, inferSchema=True)\n",
    "\n"
   ]
  },
  {
   "cell_type": "code",
   "execution_count": 20,
   "id": "9391f035",
   "metadata": {},
   "outputs": [
    {
     "name": "stdout",
     "output_type": "stream",
     "text": [
      "+----+----------+----------+\n",
      "|Year|   Entries|     Exits|\n",
      "+----+----------+----------+\n",
      "|2022| 726041587|1007363574|\n",
      "|2019|1796202332|1437212451|\n",
      "|2020| 658950428| 606841133|\n",
      "|2021| 653739773| 739071883|\n",
      "+----+----------+----------+\n",
      "\n"
     ]
    }
   ],
   "source": [
    "#Show annual entries and exits\n",
    "data.groupBy(F.year(\"DATE\").alias(\"Year\")).agg(F.sum(\"ENTRIES\").alias(\"Entries\"),F.sum(\"EXITS\").alias(\"Exits\")).show()"
   ]
  },
  {
   "cell_type": "code",
   "execution_count": 44,
   "id": "ae734084",
   "metadata": {},
   "outputs": [],
   "source": [
    "#find daily exits and save as a regular pandas dataframe to plot the same\n",
    "\n",
    "daily_exits= data.groupBy(\"DATE\").agg(F.sum(\"EXITS\").alias(\"Exits\")).toPandas()\n",
    "\n",
    "daily_exits['Date'] = pd.to_datetime(daily_exits['DATE'])\n",
    "\n",
    "daily_exits = daily_exits.sort_values(by='Date')"
   ]
  },
  {
   "cell_type": "code",
   "execution_count": 67,
   "id": "3100479e",
   "metadata": {},
   "outputs": [
    {
     "data": {
      "image/png": "[encoded data removed]",
      "text/plain": [
       "<Figure size 504x288 with 1 Axes>"
      ]
     },
     "metadata": {
      "needs_background": "light"
     },
     "output_type": "display_data"
    }
   ],
   "source": [
    "#plot daily exits and save the figure (Saved in the present working directory)\n",
    "fig, ax = plt.subplots(figsize=(14, 8))\n",
    "daily_exits.plot.line(x=\"DATE\", y=\"Exits\", ax=ax)\n",
    "\n",
    "def millions_format(value, tick_number):\n",
    "    return f'{int(value/1000000)} million'\n",
    "\n",
    "ax.yaxis.set_major_formatter(ticker.FuncFormatter(millions_format))\n",
    "\n",
    "plt.savefig('daily_exits_plot.png', dpi=300)"
   ]
  },
  {
   "cell_type": "code",
   "execution_count": 63,
   "id": "688229fe",
   "metadata": {},
   "outputs": [
    {
     "data": {
      "text/plain": [
       "<Figure size 432x288 with 0 Axes>"
      ]
     },
     "metadata": {},
     "output_type": "display_data"
    }
   ],
   "source": []
  },
  {
   "cell_type": "code",
   "execution_count": null,
   "id": "320953d3",
   "metadata": {},
   "outputs": [],
   "source": []
  }
 ],
 "metadata": {
  "kernelspec": {
   "display_name": "Python 3 (ipykernel)",
   "language": "python",
   "name": "python3"
  },
  "language_info": {
   "codemirror_mode": {
    "name": "ipython",
    "version": 3
   },
   "file_extension": ".py",
   "mimetype": "text/x-python",
   "name": "python",
   "nbconvert_exporter": "python",
   "pygments_lexer": "ipython3",
   "version": "3.8.13"
  }
 },
 "nbformat": 4,
 "nbformat_minor": 5
}
